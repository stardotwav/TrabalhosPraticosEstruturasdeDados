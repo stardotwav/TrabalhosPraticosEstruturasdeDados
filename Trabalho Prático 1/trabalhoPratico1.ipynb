{
 "cells": [
  {
   "cell_type": "markdown",
   "id": "18a2f342",
   "metadata": {},
   "source": [
    "## Trabalho Prático 1\n",
    "\n",
    "Introdução\n",
    "\n",
    "Neste trabalho será apresentado a implementação de um algoritmo em dois formatos diferentes: iterativo e recursivo, contando também com a análise das duas implementações, usando do método de somatório para o algoritmo iterativo, e os métodos de substituição direta, substituição inversa e teorema mestre, caso aplicável para o algoritmo recursivo, sendo cada resultado obtido pelos métodos provado pelo método de limites.\n",
    "\n",
    "Sobre a implementação, foi escolhido o algoritmo de Tokenização, sendo este um método comum na modelagem de textos em processamento de linguagem natural. O processo de tokenização consiste em quebrar textos e frases em unidades delineadas por caracteres pré-estabelecidos, sendo essas unidades denominadas tokens, de forma que podem vir a variar dependendo da sua granularidade, podendo ser fracionados em capítulos, seções, parágrafos, frases, palavras, entre outros. Para a implementação aqui descrita, em ambos os casos, em formato iterativo e recursivo, foi utilizado da granularidade de tokenização do texto separado em palavras, de forma que além de separar o texto em palavras, foi realizada a retirada de algumas pontuações textuais, como ponto final, vírgula, ponto e vírgula, entre outros."
   ]
  },
  {
   "cell_type": "code",
   "execution_count": 1,
   "id": "edf5308d",
   "metadata": {},
   "outputs": [],
   "source": [
    "# textos usados para testes em cada função criada\n",
    "texto1 = \"Quando se procura geralmente se encontra alguma coisa, sem duvida, mas nem sempre o que estavamos procurando\"\n",
    "texto2 = \"É estranho, mas as coisas boas e os dias agradáveis são narrados depressa, e não há muito que ouvir sobre eles, enquanto as coisas desconfortáveis, palpitantes e até mesmo horríveis podem dar uma boa história e levar um bom tempo para contar.\"\n",
    "texto3 = \"Para alémdas montanhas nebulosas, frias, Adentrando cavernas, calabouços cravados, Devemos partir antes de o sol surgir, Embusca do pálido ouro encantado. Operavamencantos anões de outrora, Ao somde martelo qual sino a soar Na profundeza onde dorme a incerteza, Emantros vazios sob penhascos do mar. Para o antigo rei e seu elfo senhor Criaramtesouros de grã nomeada, As Pedras Plasmaram, a luz captaram Prendendo-a nas gemas do punho da espada. Emcolares de Prata eles juntaram Estrelas floridas fizeramcoroas De fogo dragão e no mesmo cordão Fundirama luz do sol e da lua. Para alémdas montanhas nebulosas frias, Adentrando cavernas calabouços Perdidos Devemos partir antes de o sol surgir Buscando tesouros há muito esquecidos. Para seu uso taças foramtalhadas E harpas de ouro. Onde ninguémmora JazeramPerdidas e suas cantigas Por homens e elfos não foramouvidas ZumbiramPinheiros sobre a montanha, Uivaramos ventos emnoites azuis. O fogo vermelho queimava Parelho, As árvores-tochas emfachos de luz. Tocaramos sinos chovendo no vale, Erguiam-se Pálidos rostos ansiosos. Irado o dragão feroz se insurgira Arrasando casas e torres formosas Sob a luz da lua furavammontanhas Os anões ouvirama marcha final Fugiramdo abrigo achando o inimigo E sob seus pés a morte ao luar. Para alémdas montanhas nebulosas frias, Adentrando cavernas calabouços perdidos Devemos partir antes de o sol surgir, Buscando tesouros há muito esquecidos.\"\n",
    "texto4 = \"Havia um dragão especialmente ganancioso, forte e mau, chamado Smaug. Um dia ele alçou vôo e veio para o sul. O primeiro sinal dele que ouvimos foi um barulho como um furacão vindo do norte, e os pinheiros das montanhas chiando e estalando com o vento. Alguns dos anões por acaso estavam do lado de fora (por sorte eu era um deles um bom rapaz aventureiro, naqueles dias, sempre andando por ai, e isso salvou minha vida naquele dia) quando, de uma boa distância, vimos o dragão pousar na montanha num jato de fogo. Então ele desceu as encostas e, quando atingiu a floresta ela se incendiou inteira. Naquele momento todos os sinos estavam repicando em Vale e os guerreiros estavam se armando. Os anões correram para fora pelo seu grande portão, mas lá estava o dragão à espera deles. Nenhum escapou por ali. O rio se ergueu em vapor e um nevoeiro cobriu Vale, e no nevoeiro o dragão avançou sobre eles e destruiu a maioria dos guerreiros; a triste história de sempre, isso era muito comum naquela época. Depois voltou e se arrastou através do Portão Dianteiro e saqueou todos os salões e alamedas; e túneis, becos, adegas, mansões e corredores. Depois disso, não restaram anões vivos no lado de dentro, e ele pegou toda a riqueza deles para si. Provavelmente, pois esse é o jeito dos dragões, empilhou tudo num grande monte bem no interior da montanha, e dorme sobre ela como se fosse uma cama. Depois, passou a se arrastar para fora do portão grande e vir à noite até Vale, e levar embora pessoas, principalmente donzelas, para devorar, até que Vale ficou arruinada, e todas as pessoas partiram ou morreram. O que acontece lá agora não sei com certeza, mas não acho que hoje em dia alguém viva em algum lugar mais próximo da Montanha do que a extremidade do Lago Comprido.\""
   ]
  },
  {
   "cell_type": "code",
   "execution_count": 2,
   "id": "d0bee5c7",
   "metadata": {},
   "outputs": [],
   "source": [
    "# o processo de tokenização se baseia em separar um texto\n",
    "# em unidades consistentes, como por exemplo \"Hello World\"\n",
    "# se torna [\"Hello\", \"World\"]\n",
    "\n",
    "def tokenizacaoIterativo(texto):\n",
    "    palavra = ''\n",
    "    tokens = []\n",
    "    comparacoes = 0\n",
    "    \n",
    "    for token in texto:\n",
    "        comparacoes += 7\n",
    "        \n",
    "        if((token != '.') and (token != ',') and (token != ';') and (token != ':') and (token != '!') and (token != '(') and (token != ')')):\n",
    "            palavra += token\n",
    "            \n",
    "        elif((token == ' ')):\n",
    "            tokens.append(palavra)\n",
    "            palavra = ''\n",
    "            comparacoes += 1\n",
    "            \n",
    "    return tokens, comparacoes"
   ]
  },
  {
   "cell_type": "code",
   "execution_count": 3,
   "id": "82e7dd87",
   "metadata": {},
   "outputs": [],
   "source": [
    "comparacoes = []\n",
    "caracteres = []\n",
    "\n",
    "# chamada para o primeiro texto\n",
    "tokens, comparacao = tokenizacaoIterativo(texto1)\n",
    "comparacoes.append(comparacao)\n",
    "caracteres.append(len(texto1))\n",
    "\n",
    "# chamada para o segundo texto\n",
    "tokens, comparacao = tokenizacaoIterativo(texto2)\n",
    "comparacoes.append(comparacao)\n",
    "caracteres.append(len(texto2))\n",
    "\n",
    "# chamada para o terceiro texto\n",
    "tokens, comparacao = tokenizacaoIterativo(texto3)\n",
    "comparacoes.append(comparacao)\n",
    "caracteres.append(len(texto3))\n",
    "\n",
    "# chamada para o quarto texto\n",
    "tokens, comparacao = tokenizacaoIterativo(texto4)\n",
    "comparacoes.append(comparacao)\n",
    "caracteres.append(len(texto4))"
   ]
  },
  {
   "cell_type": "code",
   "execution_count": 4,
   "id": "4b0198ec",
   "metadata": {},
   "outputs": [
    {
     "data": {
      "text/html": [
       "<div>\n",
       "<style scoped>\n",
       "    .dataframe tbody tr th:only-of-type {\n",
       "        vertical-align: middle;\n",
       "    }\n",
       "\n",
       "    .dataframe tbody tr th {\n",
       "        vertical-align: top;\n",
       "    }\n",
       "\n",
       "    .dataframe thead th {\n",
       "        text-align: right;\n",
       "    }\n",
       "</style>\n",
       "<table border=\"1\" class=\"dataframe\">\n",
       "  <thead>\n",
       "    <tr style=\"text-align: right;\">\n",
       "      <th></th>\n",
       "      <th>Número Caracteres</th>\n",
       "      <th>Número Comparações</th>\n",
       "    </tr>\n",
       "  </thead>\n",
       "  <tbody>\n",
       "    <tr>\n",
       "      <th>0</th>\n",
       "      <td>108</td>\n",
       "      <td>756</td>\n",
       "    </tr>\n",
       "    <tr>\n",
       "      <th>1</th>\n",
       "      <td>242</td>\n",
       "      <td>1694</td>\n",
       "    </tr>\n",
       "    <tr>\n",
       "      <th>2</th>\n",
       "      <td>1431</td>\n",
       "      <td>10017</td>\n",
       "    </tr>\n",
       "    <tr>\n",
       "      <th>3</th>\n",
       "      <td>1772</td>\n",
       "      <td>12404</td>\n",
       "    </tr>\n",
       "  </tbody>\n",
       "</table>\n",
       "</div>"
      ],
      "text/plain": [
       "   Número Caracteres  Número Comparações\n",
       "0                108                 756\n",
       "1                242                1694\n",
       "2               1431               10017\n",
       "3               1772               12404"
      ]
     },
     "execution_count": 4,
     "metadata": {},
     "output_type": "execute_result"
    }
   ],
   "source": [
    "# importando a biblioteca Pandas\n",
    "import pandas as pd\n",
    "\n",
    "# gerando dataframe com os dados para gerar gráficos\n",
    "dados = {'Número Caracteres': caracteres, 'Número Comparações': comparacoes}\n",
    "dados = pd.DataFrame(dados)\n",
    "dados"
   ]
  },
  {
   "cell_type": "code",
   "execution_count": 5,
   "id": "dbccdcce",
   "metadata": {},
   "outputs": [
    {
     "data": {
      "text/plain": [
       "<Axes: xlabel='Número Caracteres', ylabel='Número Comparações'>"
      ]
     },
     "execution_count": 5,
     "metadata": {},
     "output_type": "execute_result"
    },
    {
     "data": {
      "image/png": "[encoded data removed]",
      "text/plain": [
       "<Figure size 640x480 with 1 Axes>"
      ]
     },
     "metadata": {},
     "output_type": "display_data"
    }
   ],
   "source": [
    "# importando a biblioteca Seaborn\n",
    "import seaborn as sns\n",
    "\n",
    "# gerando o gráfico de linhas com as informações\n",
    "sns.lineplot(data=dados, x='Número Caracteres', y='Número Comparações', color='mediumvioletred')"
   ]
  },
  {
   "cell_type": "markdown",
   "id": "5b0859cd",
   "metadata": {},
   "source": [
    "Realizar a Tokenização de Textos (Recursivo)"
   ]
  },
  {
   "cell_type": "code",
   "execution_count": 6,
   "id": "394200ae",
   "metadata": {},
   "outputs": [],
   "source": [
    "# o processo de tokenização se baseia em separar um texto\n",
    "# em unidades consistentes, como por exemplo \"Hello World\"\n",
    "# se torna [\"Hello\", \"World\"]\n",
    "def tokenizacaoRecursivo(texto, tokens, palavra, posicao=0):\n",
    "    global comparacao\n",
    "    comparacao += 1\n",
    "    \n",
    "    if(posicao == (len(texto)-1)):\n",
    "        return\n",
    "    \n",
    "    comparacao += 7\n",
    "    \n",
    "    if((texto[posicao] != '.') and (texto[posicao] != ',') and (texto[posicao] != ';') and (texto[posicao] != ':') and (texto[posicao] != '!') and (texto[posicao] != '(') and (texto[posicao] != ')')):\n",
    "        palavra += texto[posicao]\n",
    "        posicao += 1\n",
    "        tokenizacaoRecursivo(texto, tokens, palavra, posicao)\n",
    "    \n",
    "    elif(texto[posicao] == ' '):\n",
    "        tokens.append(palavra)\n",
    "        palavra = ''\n",
    "        posicao += 1\n",
    "        comparacao += 1\n",
    "        tokenizacaoRecursivo(texto, tokens, palavra, posicao)\n",
    "        \n",
    "    else:\n",
    "        posicao += 1\n",
    "        tokenizacaoRecursivo(texto, tokens, palavra, posicao)"
   ]
  },
  {
   "cell_type": "code",
   "execution_count": 7,
   "id": "1a504b6c",
   "metadata": {},
   "outputs": [],
   "source": [
    "comparacoes = []\n",
    "caracteres = []\n",
    "posicao = 0\n",
    "\n",
    "palavra = \" \"\n",
    "tokens = []\n",
    "global comparacao\n",
    "comparacao = 0\n",
    "# chamada para o primeiro texto\n",
    "tokenizacaoRecursivo(texto1, tokens, palavra)\n",
    "comparacoes.append(comparacao)\n",
    "caracteres.append(len(texto1))\n",
    "\n",
    "palavra = \" \"\n",
    "tokens = []\n",
    "comparacao = 0\n",
    "# chamada para o segundo texto\n",
    "tokenizacaoRecursivo(texto2, tokens, palavra)\n",
    "comparacoes.append(comparacao)\n",
    "caracteres.append(len(texto2))\n",
    "\n",
    "palavra = \" \"\n",
    "tokens = []\n",
    "comparacao = 0\n",
    "# chamada para o terceiro texto\n",
    "tokenizacaoRecursivo(texto3, tokens, palavra)\n",
    "comparacoes.append(comparacao)\n",
    "caracteres.append(len(texto3))\n",
    "\n",
    "palavra = \" \"\n",
    "tokens = []\n",
    "comparacao = 0\n",
    "# chamada para o quarto texto\n",
    "tokenizacaoRecursivo(texto4, tokens, palavra)\n",
    "comparacoes.append(comparacao)\n",
    "caracteres.append(len(texto4))"
   ]
  },
  {
   "cell_type": "code",
   "execution_count": 8,
   "id": "5886f2bd",
   "metadata": {},
   "outputs": [
    {
     "data": {
      "text/html": [
       "<div>\n",
       "<style scoped>\n",
       "    .dataframe tbody tr th:only-of-type {\n",
       "        vertical-align: middle;\n",
       "    }\n",
       "\n",
       "    .dataframe tbody tr th {\n",
       "        vertical-align: top;\n",
       "    }\n",
       "\n",
       "    .dataframe thead th {\n",
       "        text-align: right;\n",
       "    }\n",
       "</style>\n",
       "<table border=\"1\" class=\"dataframe\">\n",
       "  <thead>\n",
       "    <tr style=\"text-align: right;\">\n",
       "      <th></th>\n",
       "      <th>Número Caracteres</th>\n",
       "      <th>Número Comparações</th>\n",
       "    </tr>\n",
       "  </thead>\n",
       "  <tbody>\n",
       "    <tr>\n",
       "      <th>0</th>\n",
       "      <td>108</td>\n",
       "      <td>857</td>\n",
       "    </tr>\n",
       "    <tr>\n",
       "      <th>1</th>\n",
       "      <td>242</td>\n",
       "      <td>1929</td>\n",
       "    </tr>\n",
       "    <tr>\n",
       "      <th>2</th>\n",
       "      <td>1431</td>\n",
       "      <td>11441</td>\n",
       "    </tr>\n",
       "    <tr>\n",
       "      <th>3</th>\n",
       "      <td>1772</td>\n",
       "      <td>14169</td>\n",
       "    </tr>\n",
       "  </tbody>\n",
       "</table>\n",
       "</div>"
      ],
      "text/plain": [
       "   Número Caracteres  Número Comparações\n",
       "0                108                 857\n",
       "1                242                1929\n",
       "2               1431               11441\n",
       "3               1772               14169"
      ]
     },
     "execution_count": 8,
     "metadata": {},
     "output_type": "execute_result"
    }
   ],
   "source": [
    "# importando a biblioteca Pandas\n",
    "import pandas as pd\n",
    "\n",
    "# gerando dataframe com os dados para gerar gráficos\n",
    "dados = {'Número Caracteres': caracteres, 'Número Comparações': comparacoes}\n",
    "dados = pd.DataFrame(dados)\n",
    "dados"
   ]
  },
  {
   "cell_type": "code",
   "execution_count": 9,
   "id": "30f786b9",
   "metadata": {},
   "outputs": [
    {
     "data": {
      "text/plain": [
       "<Axes: xlabel='Número Caracteres', ylabel='Número Comparações'>"
      ]
     },
     "execution_count": 9,
     "metadata": {},
     "output_type": "execute_result"
    },
    {
     "data": {
      "image/png": "[encoded data removed]",
      "text/plain": [
       "<Figure size 640x480 with 1 Axes>"
      ]
     },
     "metadata": {},
     "output_type": "display_data"
    }
   ],
   "source": [
    "# importando a biblioteca Seaborn\n",
    "import seaborn as sns\n",
    "\n",
    "# gerando o gráfico de linhas com as informações\n",
    "sns.lineplot(data=dados, x='Número Caracteres', y='Número Comparações', color='c')"
   ]
  }
 ],
 "metadata": {
  "kernelspec": {
   "display_name": "Python 3 (ipykernel)",
   "language": "python",
   "name": "python3"
  },
  "language_info": {
   "codemirror_mode": {
    "name": "ipython",
    "version": 3
   },
   "file_extension": ".py",
   "mimetype": "text/x-python",
   "name": "python",
   "nbconvert_exporter": "python",
   "pygments_lexer": "ipython3",
   "version": "3.10.6"
  }
 },
 "nbformat": 4,
 "nbformat_minor": 5
}
